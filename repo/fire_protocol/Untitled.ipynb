{
 "cells": [
  {
   "cell_type": "code",
   "execution_count": 1,
   "id": "cb9e6a28-286e-4704-87d0-96ca736b8575",
   "metadata": {},
   "outputs": [],
   "source": [
    "import AX_PY_SDK_3 as sdk"
   ]
  },
  {
   "cell_type": "code",
   "execution_count": 45,
   "id": "84003ede-2499-4f0c-be0b-e6464612cf10",
   "metadata": {},
   "outputs": [],
   "source": [
    "task_dict = {\n",
    "    'name': 'task_lift_raise_at_A for FS52505505633sR',\n",
    "    'robotId': 'FS52505505633sR',\n",
    "    'businessId': '687f7fff4426552f546de4cb',\n",
    "    'runNum': 1,\n",
    "    'taskType': 5,\n",
    "    'runType': 29,\n",
    "    'routeMode': 1,\n",
    "    'runMode': 1,\n",
    "    'taskPts': [\n",
    "        {\n",
    "            'x': 13.250404946588473,\n",
    "            'y': -1.8330007478821981,\n",
    "            'yaw': 89.8941824774102,\n",
    "            'stopRadius': 1,\n",
    "            'areaId': '68835b624426552f546eb0bb',\n",
    "            'ext': {},\n",
    "            # 'stepActs': [{'type': 47, 'data': {'useAreaId': '68835b624426552f546eb0bb'}}],\n",
    "            'stepActs': [{'type': 48, 'data': {}}],\n",
    "            'type': 34\n",
    "        }\n",
    "    ],\n",
    "    'sourceType': 6,\n",
    "    'ignorePublicSite': False,\n",
    "    'speed': 0.4,\n",
    "    'detourRadius': 1\n",
    "}"
   ]
  },
  {
   "cell_type": "code",
   "execution_count": 43,
   "id": "2bb20daf-d18c-4ac2-a46b-4d2e5680c9ee",
   "metadata": {},
   "outputs": [],
   "source": [
    "# task_dict = {\n",
    "#     'name': 'task_go_C for FS52505505633sR',\n",
    "#     'robotId': 'FS52505505633sR',\n",
    "#     'businessId': '687f7fff4426552f546de4cb',\n",
    "#     'runNum': 1,\n",
    "#     'taskType': 5,\n",
    "#     'runType': 29,\n",
    "#     'routeMode': 1,\n",
    "#     'runMode': 1,\n",
    "#     'taskPts': [\n",
    "#         {\n",
    "#             'x': 14.223002115286915,\n",
    "#             'y': -1.7879926186128485,\n",
    "#             'yaw': 90.42202198485558,\n",
    "#             'stopRadius': 1,\n",
    "#             'areaId': '68835b624426552f546eb0bb',\n",
    "#             'ext': {},\n",
    "#             'type': 34\n",
    "#         }\n",
    "#     ],\n",
    "#     'sourceType': 6,\n",
    "#     'ignorePublicSite': False,\n",
    "#     'speed': 0.4,\n",
    "#     'detourRadius': 1\n",
    "# }"
   ]
  },
  {
   "cell_type": "code",
   "execution_count": 46,
   "id": "71ebe3bf-5da6-4712-81fb-ee5e51cfb741",
   "metadata": {},
   "outputs": [],
   "source": [
    "import requests\n",
    "url = sdk._build_url(sdk.URL_BASE, sdk.URL_ROUTING_DICT['create_task'])\n",
    "r = requests.post(\n",
    "    url,\n",
    "    headers = {\n",
    "        \"X-Token\" : sdk.X_TOKEN\n",
    "    },\n",
    "    json = task_dict\n",
    ")"
   ]
  },
  {
   "cell_type": "code",
   "execution_count": 17,
   "id": "6006296c-26cb-4415-adfa-d864c4c6515f",
   "metadata": {},
   "outputs": [
    {
     "name": "stdout",
     "output_type": "stream",
     "text": [
      "<Response [200]>\n"
     ]
    }
   ],
   "source": [
    "print(r)"
   ]
  },
  {
   "cell_type": "code",
   "execution_count": null,
   "id": "b1d51eec-d918-42e4-9e28-d204f64a9e1f",
   "metadata": {},
   "outputs": [],
   "source": []
  }
 ],
 "metadata": {
  "kernelspec": {
   "display_name": "Python 3 (ipykernel)",
   "language": "python",
   "name": "python3"
  },
  "language_info": {
   "codemirror_mode": {
    "name": "ipython",
    "version": 3
   },
   "file_extension": ".py",
   "mimetype": "text/x-python",
   "name": "python",
   "nbconvert_exporter": "python",
   "pygments_lexer": "ipython3",
   "version": "3.13.7"
  }
 },
 "nbformat": 4,
 "nbformat_minor": 5
}
